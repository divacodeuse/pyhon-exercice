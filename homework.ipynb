{
 "cells": [
  {
   "cell_type": "code",
   "execution_count": 1,
   "id": "45566044",
   "metadata": {},
   "outputs": [
    {
     "name": "stdout",
     "output_type": "stream",
     "text": [
      "entrer le nombre a :5\n",
      "entrer le nombre b :4\n",
      "entrer le nombre c :12\n",
      "12 est le maximum\n"
     ]
    }
   ],
   "source": [
    "a=int(input(\"entrer le nombre a :\"))\n",
    "b=int(input(\"entrer le nombre b :\"))\n",
    "c=int(input(\"entrer le nombre c :\"))\n",
    "if a>b and a>c:\n",
    "      print(a, \"est le maximum\")\n",
    "elif c>b and c>a:\n",
    "       print(c, \"est le maximum\")\n",
    "else:\n",
    "       print(b, \"est le maximum\")"
   ]
  },
  {
   "cell_type": "code",
   "execution_count": 2,
   "id": "f8ad849a",
   "metadata": {},
   "outputs": [
    {
     "name": "stdout",
     "output_type": "stream",
     "text": [
      "entrer une lettrem\n",
      "m est une consonne\n"
     ]
    }
   ],
   "source": [
    "L=input(\"entrer une lettre\")\n",
    "if L in (\"a\", \"o\", \"e\", \"i\", \"u\" and \"A\", \"B\", \"E\", \"I\", \"U\" ):\n",
    "    print(L, \"est une voyelle\")\n",
    "else:\n",
    "    print(L, \"est une consonne\")"
   ]
  },
  {
   "cell_type": "code",
   "execution_count": 3,
   "id": "bd6c4a6b",
   "metadata": {},
   "outputs": [
    {
     "name": "stdout",
     "output_type": "stream",
     "text": [
      "entrer le numéro du jour de la semaine  :5\n",
      "vendredi\n"
     ]
    }
   ],
   "source": [
    "n=int(input(\"entrer le numéro du jour de la semaine  :\"))\n",
    "if n==1:\n",
    "    print (\"lundi\")\n",
    "if n==2:\n",
    "    print (\"mardi\")\n",
    "if n==3:\n",
    "    print (\"mercredi\")\n",
    "if n==4:\n",
    "    print (\"jeudi\")       \n",
    "if n==5:\n",
    "    print (\"vendredi\") \n",
    "if n==6:\n",
    "    print (\"samedi\")        \n",
    "if n==7:\n",
    "    print (\"dimanche\")"
   ]
  },
  {
   "cell_type": "code",
   "execution_count": 4,
   "id": "809a59c4",
   "metadata": {},
   "outputs": [
    {
     "name": "stdout",
     "output_type": "stream",
     "text": [
      "entrer le prix de fabriction2547\n",
      "entrer le prix de vente1452\n",
      "il y'a perte\n"
     ]
    }
   ],
   "source": [
    "pf=int(input(\"entrer le prix de fabriction\"))\n",
    "pv=int(input(\"entrer le prix de vente\"))\n",
    "if(pf>pv):\n",
    "    print(\"il y'a perte\")\n",
    "else:\n",
    "    print(\"il y'a profit\")"
   ]
  },
  {
   "cell_type": "code",
   "execution_count": 7,
   "id": "6b15b3d1",
   "metadata": {},
   "outputs": [
    {
     "name": "stdout",
     "output_type": "stream",
     "text": [
      "entrer une année :365\n",
      "365 n'est pas bissectile\n"
     ]
    }
   ],
   "source": [
    "a=int(input(\"entrer une année :\"))\n",
    "\n",
    "if a%4==0 and a%400==0 and a%100!=0:\n",
    "    \n",
    "    print(a, \"est bissectile\")\n",
    "else:\n",
    "    \n",
    "    print(a, \"n'est pas bissectile\")"
   ]
  },
  {
   "cell_type": "code",
   "execution_count": 8,
   "id": "a00edef2",
   "metadata": {},
   "outputs": [
    {
     "name": "stdout",
     "output_type": "stream",
     "text": [
      "           *            \n",
      "       *      *       \n",
      "    *            *   \n",
      "  *    *    *      *        \n"
     ]
    }
   ],
   "source": [
    "for i in range (1,5):\n",
    "    if i==1:\n",
    "        print(\"           *            \")\n",
    "    \n",
    "    if i==2:\n",
    "         print(\"       *      *       \")\n",
    "\n",
    "    if i==3:\n",
    "         print(\"    *            *   \")\n",
    "    \n",
    "    if i==4:\n",
    "         print(\"  *    *    *      *        \")"
   ]
  },
  {
   "cell_type": "code",
   "execution_count": 9,
   "id": "463a3850",
   "metadata": {},
   "outputs": [
    {
     "name": "stdout",
     "output_type": "stream",
     "text": [
      "entrer un motinformatique\n",
      "informatique contient 6 voyelles\n"
     ]
    }
   ],
   "source": [
    "n=input(\"entrer un mot\")\n",
    "m=len(n)\n",
    "nv=0\n",
    "for i in range (0,m):\n",
    "    if n[i] in [\"a\", \"o\", \"e\", \"i\", \"u\"]:\n",
    "        nv=nv+1\n",
    "print(n, \"contient\",nv ,\"voyelles\")"
   ]
  },
  {
   "cell_type": "code",
   "execution_count": 10,
   "id": "c2167615",
   "metadata": {},
   "outputs": [
    {
     "name": "stdout",
     "output_type": "stream",
     "text": [
      "entrer une note :10\n",
      "entrer une note :14\n",
      "entrer une note :15\n",
      "13.0 10 15\n"
     ]
    }
   ],
   "source": [
    "s=0\n",
    "min=0\n",
    "max=20\n",
    "moy=1\n",
    "for i in range (1,4):\n",
    "    n=int(input(\"entrer une note :\"))\n",
    "    s=s+n\n",
    "    if n>=min:\n",
    "        min=n\n",
    "    if n<=max:\n",
    "        max=n    \n",
    "moy=moy*s/3\n",
    "print(moy,max,min)\n",
    "    \n",
    "       "
   ]
  },
  {
   "cell_type": "code",
   "execution_count": 11,
   "id": "20f65cab",
   "metadata": {},
   "outputs": [
    {
     "name": "stdout",
     "output_type": "stream",
     "text": [
      "est tu bonne personne?bobo\n",
      "error!!! Répondez par oui ou non\n"
     ]
    }
   ],
   "source": [
    "rep=input(\"est tu bonne personne?\")\n",
    "\n",
    "if rep==\"Non\" or   rep==\"Oui\":\n",
    "    print(\"Merci\")\n",
    "else:\n",
    "    print(\"error!!! Répondez par oui ou non\")"
   ]
  },
  {
   "cell_type": "code",
   "execution_count": 15,
   "id": "7b8f9058",
   "metadata": {},
   "outputs": [
    {
     "name": "stdout",
     "output_type": "stream",
     "text": [
      "entrer le nombre à deviner25\n",
      "petit\n",
      "entrer le nombre à deviner45\n",
      "petit\n",
      "entrer le nombre à deviner78\n",
      "petit\n",
      "entrer le nombre à deviner82\n",
      "bravo\n",
      "le nombre était : 82\n"
     ]
    }
   ],
   "source": [
    "from random import *\n",
    "n=randint(1,100)\n",
    "while a!=n:\n",
    "    for i in range (1,5):\n",
    "    \n",
    "        a=int(input(\"entrer le nombre à deviner\"))\n",
    "    \n",
    "        if(a<n):\n",
    "            print(\"petit\")\n",
    "        elif a>n:\n",
    "            print(\"grand\")\n",
    "        else:\n",
    "            print(\"bravo\")\n",
    "        \n",
    "    print(\"le nombre était :\", n)\n",
    "        "
   ]
  },
  {
   "cell_type": "code",
   "execution_count": null,
   "id": "9340fb08",
   "metadata": {},
   "outputs": [
    {
     "name": "stdout",
     "output_type": "stream",
     "text": [
      "entrer un nombre 15\n",
      "entrer un autre nombre 42\n",
      "15 42 630\n"
     ]
    }
   ],
   "source": [
    "a=int(input(\"entrer un nombre \"))\n",
    "b=int(input(\"entrer un autre nombre \"))\n",
    "max=0\n",
    "if a>b:\n",
    "    max=a\n",
    "else:\n",
    "     max=b\n",
    "i=a*b\n",
    "while i>=max:\n",
    "    if i%a==0 and i %b==0:\n",
    "        m=i\n",
    "        i=i+1\n",
    "        print(a,b,m)"
   ]
  },
  {
   "cell_type": "code",
   "execution_count": 17,
   "id": "94a4ffa1",
   "metadata": {},
   "outputs": [
    {
     "name": "stdout",
     "output_type": "stream",
     "text": [
      "49\n"
     ]
    }
   ],
   "source": [
    "for i in range(50):\n",
    "    while i**2>100:\n",
    "        break\n",
    "print(i)"
   ]
  },
  {
   "cell_type": "code",
   "execution_count": 20,
   "id": "012f8695",
   "metadata": {},
   "outputs": [
    {
     "name": "stdout",
     "output_type": "stream",
     "text": [
      "0 1 2 3 4 5 6 7 8 9 \n",
      "\n",
      "0 1 2 3 4 5 6 7 8 9 \n",
      "\n",
      "0 1 2 3 4 5 6 7 8 9 \n",
      "\n",
      "0 1 2 3 4 5 6 7 8 9 \n",
      "\n",
      "0 1 2 3 4 5 6 7 8 9 \n",
      "\n"
     ]
    }
   ],
   "source": [
    "for i in range (1,6):\n",
    "    for i in range(10):\n",
    "        print(i,end=\" \")\n",
    "    print(\"\\n\")"
   ]
  },
  {
   "cell_type": "code",
   "execution_count": null,
   "id": "90222d0f",
   "metadata": {},
   "outputs": [],
   "source": []
  }
 ],
 "metadata": {
  "kernelspec": {
   "display_name": "Python 3 (ipykernel)",
   "language": "python",
   "name": "python3"
  },
  "language_info": {
   "codemirror_mode": {
    "name": "ipython",
    "version": 3
   },
   "file_extension": ".py",
   "mimetype": "text/x-python",
   "name": "python",
   "nbconvert_exporter": "python",
   "pygments_lexer": "ipython3",
   "version": "3.8.5"
  }
 },
 "nbformat": 4,
 "nbformat_minor": 5
}
